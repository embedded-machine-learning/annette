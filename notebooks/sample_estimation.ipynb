{
 "metadata": {
  "language_info": {
   "codemirror_mode": {
    "name": "ipython",
    "version": 3
   },
   "file_extension": ".py",
   "mimetype": "text/x-python",
   "name": "python",
   "nbconvert_exporter": "python",
   "pygments_lexer": "ipython3",
   "version": "3.6.9-final"
  },
  "orig_nbformat": 2,
  "kernelspec": {
   "name": "python3",
   "display_name": "Python 3.6.9 64-bit",
   "metadata": {
    "interpreter": {
     "hash": "31f2aee4e71d21fbe5cf8b01ff0e069b9275f58929596ceb00d14d90e3e16cd6"
    }
   }
  }
 },
 "nbformat": 4,
 "nbformat_minor": 2,
 "cells": [
  {
   "cell_type": "code",
   "execution_count": 29,
   "metadata": {
    "tags": [
     "outputPrepend"
    ]
   },
   "outputs": [
    {
     "output_type": "stream",
     "name": "stdout",
     "text": [
      "Concat Relu6\n",
      "inception_5a/3x3 Conv found\n",
      "Concat Relu6\n",
      "inception_5a/5x5 Conv found\n",
      "Concat Relu6\n",
      "inception_5a/pool_proj Conv found\n",
      "Concat Relu6\n",
      "inception_5b/3x3_reduce Conv found\n",
      "Conv Relu6\n",
      "inception_5b/1x1 Conv found\n",
      "Concat Relu6\n",
      "inception_5b/5x5_reduce Conv found\n",
      "Conv Relu6\n",
      "inception_5b/3x3 Conv found\n",
      "Concat Relu6\n",
      "inception_5b/pool_proj Conv found\n",
      "Concat Relu6\n",
      "inception_5b/5x5 Conv found\n",
      "Concat Relu6\n",
      "p5 Conv found\n",
      "ConvTranspose Relu6\n",
      "toplayer_p4 Conv found\n",
      "ConvTranspose Relu6\n",
      "toplayer_p3 Conv found\n",
      "ConvTranspose Relu6\n",
      "Fuser\n",
      "conv1/7x7_s2 Conv found\n",
      "Pool LeakyRelu\n",
      "conv2/3x3_reduce Conv found\n",
      "Conv LeakyRelu\n",
      "conv2/3x3 Conv found\n",
      "latlayer_2c Conv found\n",
      "Add LeakyRelu\n",
      "inception_3a/5x5_reduce Conv found\n",
      "Conv LeakyRelu\n",
      "inception_3a/1x1 Conv found\n",
      "Concat LeakyRelu\n",
      "inception_3a/3x3_reduce Conv found\n",
      "Conv LeakyRelu\n",
      "inception_3a/pool_proj Conv found\n",
      "Concat LeakyRelu\n",
      "inception_3a/5x5 Conv found\n",
      "Concat LeakyRelu\n",
      "inception_3a/3x3 Conv found\n",
      "Concat LeakyRelu\n",
      "inception_3b/3x3_reduce Conv found\n",
      "Conv LeakyRelu\n",
      "inception_3b/5x5_reduce Conv found\n",
      "Conv LeakyRelu\n",
      "inception_3b/1x1 Conv found\n",
      "Concat LeakyRelu\n",
      "inception_3b/3x3 Conv found\n",
      "Concat LeakyRelu\n",
      "inception_3b/5x5 Conv found\n",
      "Concat LeakyRelu\n",
      "inception_3b/pool_proj Conv found\n",
      "Concat LeakyRelu\n",
      "latlayer_3d Conv found\n",
      "Add LeakyRelu\n",
      "inception_4a/3x3_reduce Conv found\n",
      "Conv LeakyRelu\n",
      "inception_4a/5x5_reduce Conv found\n",
      "Conv LeakyRelu\n",
      "inception_4a/1x1 Conv found\n",
      "Concat LeakyRelu\n",
      "inception_4a/pool_proj Conv found\n",
      "Concat LeakyRelu\n",
      "inception_4a/3x3 Conv found\n",
      "Concat LeakyRelu\n",
      "inception_4a/5x5 Conv found\n",
      "Concat LeakyRelu\n",
      "inception_4b/1x1 Conv found\n",
      "Concat LeakyRelu\n",
      "inception_4b/5x5_reduce Conv found\n",
      "Conv LeakyRelu\n",
      "inception_4b/3x3_reduce Conv found\n",
      "Conv LeakyRelu\n",
      "inception_4b/5x5 Conv found\n",
      "Concat LeakyRelu\n",
      "inception_4b/3x3 Conv found\n",
      "Concat LeakyRelu\n",
      "inception_4b/pool_proj Conv found\n",
      "Concat LeakyRelu\n",
      "inception_4c/3x3_reduce Conv found\n",
      "Conv LeakyRelu\n",
      "inception_4c/5x5_reduce Conv found\n",
      "Conv LeakyRelu\n",
      "inception_4c/1x1 Conv found\n",
      "Concat LeakyRelu\n",
      "inception_4c/pool_proj Conv found\n",
      "Concat LeakyRelu\n",
      "inception_4c/3x3 Conv found\n",
      "Concat LeakyRelu\n",
      "inception_4c/5x5 Conv found\n",
      "Concat LeakyRelu\n",
      "inception_4d/3x3_reduce Conv found\n",
      "Conv LeakyRelu\n",
      "inception_4d/1x1 Conv found\n",
      "Concat LeakyRelu\n",
      "inception_4d/5x5_reduce Conv found\n",
      "Conv LeakyRelu\n",
      "inception_4d/3x3 Conv found\n",
      "Concat LeakyRelu\n",
      "inception_4d/5x5 Conv found\n",
      "Concat LeakyRelu\n",
      "inception_4d/pool_proj Conv found\n",
      "Concat LeakyRelu\n",
      "inception_4e/1x1 Conv found\n",
      "Concat LeakyRelu\n",
      "inception_4e/5x5_reduce Conv found\n",
      "Conv LeakyRelu\n",
      "inception_4e/3x3_reduce Conv found\n",
      "Conv LeakyRelu\n",
      "inception_4e/5x5 Conv found\n",
      "Concat LeakyRelu\n",
      "inception_4e/pool_proj Conv found\n",
      "Concat LeakyRelu\n",
      "inception_4e/3x3 Conv found\n",
      "Concat LeakyRelu\n",
      "latlayer_4f Conv found\n",
      "Add LeakyRelu\n",
      "inception_5a/3x3_reduce Conv found\n",
      "Conv LeakyRelu\n",
      "inception_5a/5x5_reduce Conv found\n",
      "Conv LeakyRelu\n",
      "inception_5a/1x1 Conv found\n",
      "Concat LeakyRelu\n",
      "inception_5a/3x3 Conv found\n",
      "Concat LeakyRelu\n",
      "inception_5a/5x5 Conv found\n",
      "Concat LeakyRelu\n",
      "inception_5a/pool_proj Conv found\n",
      "Concat LeakyRelu\n",
      "inception_5b/3x3_reduce Conv found\n",
      "Conv LeakyRelu\n",
      "inception_5b/1x1 Conv found\n",
      "Concat LeakyRelu\n",
      "inception_5b/5x5_reduce Conv found\n",
      "Conv LeakyRelu\n",
      "inception_5b/3x3 Conv found\n",
      "Concat LeakyRelu\n",
      "inception_5b/pool_proj Conv found\n",
      "Concat LeakyRelu\n",
      "inception_5b/5x5 Conv found\n",
      "Concat LeakyRelu\n",
      "p5 Conv found\n",
      "ConvTranspose LeakyRelu\n",
      "toplayer_p4 Conv found\n",
      "ConvTranspose LeakyRelu\n",
      "toplayer_p3 Conv found\n",
      "ConvTranspose LeakyRelu\n",
      "Fuser\n",
      "conv1/7x7_s2 Conv found\n",
      "Pool Pool\n",
      "Merge Desicion\n",
      "True\n",
      "{'type': 'ConvPool', 'parents': ['data'], 'children': ['conv2/3x3_reduce'], 'output_shape': [-1, 128, 256, 64], 'input_shape': [-1, 256, 512, 3], 'kernel_shape': [7, 7, 3, 64], 'strides': [1, 2, 2, 1], 'pads': [0, 3, 3, 0, 0, 3, 3, 0], 'left_parents': 0, 'Relu': {'type': 'Relu', 'parents': ['conv1/7x7_s2'], 'children': ['pool1/3x3_s2'], 'output_shape': [-1, 128, 256, 64], 'input_shape': [-1, 128, 256, 64], 'left_parents': 0}, 'num_weights': 9408, 'num_outputs': 2097152, 'num_inputs': 393216, 'num_ops': 616562688, 'Pool': {'type': 'Pool', 'parents': ['conv1/7x7_s2'], 'children': ['conv2/3x3_reduce'], 'output_shape': [-1, 64, 128, 64], 'input_shape': [-1, 128, 256, 64], 'kernel_shape': [1, 3, 3, 1], 'strides': [1, 2, 2, 1], 'pads': [0, 0, 0, 0, 0, 1, 1, 0], 'pooling_type': 'MAX', 'left_parents': 0}}\n",
      "conv2/3x3_reduce Conv found\n",
      "Conv Pool\n",
      "conv2/3x3 Conv found\n",
      "latlayer_2c Conv found\n",
      "Add Pool\n",
      "inception_3a/5x5_reduce Conv found\n",
      "Conv Pool\n",
      "inception_3a/1x1 Conv found\n",
      "Concat Pool\n",
      "inception_3a/3x3_reduce Conv found\n",
      "Conv Pool\n",
      "inception_3a/pool_proj Conv found\n",
      "Concat Pool\n",
      "inception_3a/5x5 Conv found\n",
      "Concat Pool\n",
      "inception_3a/3x3 Conv found\n",
      "Concat Pool\n",
      "inception_3b/3x3_reduce Conv found\n",
      "Conv Pool\n",
      "inception_3b/5x5_reduce Conv found\n",
      "Conv Pool\n",
      "inception_3b/1x1 Conv found\n",
      "Concat Pool\n",
      "inception_3b/3x3 Conv found\n",
      "Concat Pool\n",
      "inception_3b/5x5 Conv found\n",
      "Concat Pool\n",
      "inception_3b/pool_proj Conv found\n",
      "Concat Pool\n",
      "latlayer_3d Conv found\n",
      "Add Pool\n",
      "inception_4a/3x3_reduce Conv found\n",
      "Conv Pool\n",
      "inception_4a/5x5_reduce Conv found\n",
      "Conv Pool\n",
      "inception_4a/1x1 Conv found\n",
      "Concat Pool\n",
      "inception_4a/pool_proj Conv found\n",
      "Concat Pool\n",
      "inception_4a/3x3 Conv found\n",
      "Concat Pool\n",
      "inception_4a/5x5 Conv found\n",
      "Concat Pool\n",
      "inception_4b/1x1 Conv found\n",
      "Concat Pool\n",
      "inception_4b/5x5_reduce Conv found\n",
      "Conv Pool\n",
      "inception_4b/3x3_reduce Conv found\n",
      "Conv Pool\n",
      "inception_4b/5x5 Conv found\n",
      "Concat Pool\n",
      "inception_4b/3x3 Conv found\n",
      "Concat Pool\n",
      "inception_4b/pool_proj Conv found\n",
      "Concat Pool\n",
      "inception_4c/3x3_reduce Conv found\n",
      "Conv Pool\n",
      "inception_4c/5x5_reduce Conv found\n",
      "Conv Pool\n",
      "inception_4c/1x1 Conv found\n",
      "Concat Pool\n",
      "inception_4c/pool_proj Conv found\n",
      "Concat Pool\n",
      "inception_4c/3x3 Conv found\n",
      "Concat Pool\n",
      "inception_4c/5x5 Conv found\n",
      "Concat Pool\n",
      "inception_4d/3x3_reduce Conv found\n",
      "Conv Pool\n",
      "inception_4d/1x1 Conv found\n",
      "Concat Pool\n",
      "inception_4d/5x5_reduce Conv found\n",
      "Conv Pool\n",
      "inception_4d/3x3 Conv found\n",
      "Concat Pool\n",
      "inception_4d/5x5 Conv found\n",
      "Concat Pool\n",
      "inception_4d/pool_proj Conv found\n",
      "Concat Pool\n",
      "inception_4e/1x1 Conv found\n",
      "Concat Pool\n",
      "inception_4e/5x5_reduce Conv found\n",
      "Conv Pool\n",
      "inception_4e/3x3_reduce Conv found\n",
      "Conv Pool\n",
      "inception_4e/5x5 Conv found\n",
      "Concat Pool\n",
      "inception_4e/pool_proj Conv found\n",
      "Concat Pool\n",
      "inception_4e/3x3 Conv found\n",
      "Concat Pool\n",
      "latlayer_4f Conv found\n",
      "Add Pool\n",
      "inception_5a/3x3_reduce Conv found\n",
      "Conv Pool\n",
      "inception_5a/5x5_reduce Conv found\n",
      "Conv Pool\n",
      "inception_5a/1x1 Conv found\n",
      "Concat Pool\n",
      "inception_5a/3x3 Conv found\n",
      "Concat Pool\n",
      "inception_5a/5x5 Conv found\n",
      "Concat Pool\n",
      "inception_5a/pool_proj Conv found\n",
      "Concat Pool\n",
      "inception_5b/3x3_reduce Conv found\n",
      "Conv Pool\n",
      "inception_5b/1x1 Conv found\n",
      "Concat Pool\n",
      "inception_5b/5x5_reduce Conv found\n",
      "Conv Pool\n",
      "inception_5b/3x3 Conv found\n",
      "Concat Pool\n",
      "inception_5b/pool_proj Conv found\n",
      "Concat Pool\n",
      "inception_5b/5x5 Conv found\n",
      "Concat Pool\n",
      "p5 Conv found\n",
      "ConvTranspose Pool\n",
      "toplayer_p4 Conv found\n",
      "ConvTranspose Pool\n",
      "toplayer_p3 Conv found\n",
      "ConvTranspose Pool\n",
      "['data', 'conv1/7x7_s2', 'conv2/3x3_reduce', 'conv2/3x3', 'pool2/3x3_s2', 'latlayer_2c', 'inception_3a/pool', 'inception_3a/5x5_reduce', 'inception_3a/1x1', 'inception_3a/3x3_reduce', 'inception_3a/pool_proj', 'inception_3a/5x5', 'inception_3a/3x3', 'inception_3a/output', 'inception_3b/3x3_reduce', 'inception_3b/5x5_reduce', 'inception_3b/1x1', 'inception_3b/pool', 'inception_3b/3x3', 'inception_3b/5x5', 'inception_3b/pool_proj', 'inception_3b/output', 'latlayer_3d', 'pool3/3x3_s2', 'inception_4a/pool', 'inception_4a/3x3_reduce', 'inception_4a/5x5_reduce', 'inception_4a/1x1', 'inception_4a/pool_proj', 'inception_4a/3x3', 'inception_4a/5x5', 'inception_4a/output', 'inception_4b/1x1', 'inception_4b/5x5_reduce', 'inception_4b/3x3_reduce', 'inception_4b/pool', 'inception_4b/5x5', 'inception_4b/3x3', 'inception_4b/pool_proj', 'inception_4b/output', 'inception_4c/pool', 'inception_4c/3x3_reduce', 'inception_4c/5x5_reduce', 'inception_4c/1x1', 'inception_4c/pool_proj', 'inception_4c/3x3', 'inception_4c/5x5', 'inception_4c/output', 'inception_4d/3x3_reduce', 'inception_4d/1x1', 'inception_4d/5x5_reduce', 'inception_4d/pool', 'inception_4d/3x3', 'inception_4d/5x5', 'inception_4d/pool_proj', 'inception_4d/output', 'inception_4e/1x1', 'inception_4e/5x5_reduce', 'inception_4e/pool', 'inception_4e/3x3_reduce', 'inception_4e/5x5', 'inception_4e/pool_proj', 'inception_4e/3x3', 'inception_4e/output', 'pool4/3x3_s2', 'latlayer_4f', 'inception_5a/3x3_reduce', 'inception_5a/5x5_reduce', 'inception_5a/1x1', 'inception_5a/pool', 'inception_5a/3x3', 'inception_5a/5x5', 'inception_5a/pool_proj', 'inception_5a/output', 'inception_5b/3x3_reduce', 'inception_5b/1x1', 'inception_5b/pool', 'inception_5b/5x5_reduce', 'inception_5b/3x3', 'inception_5b/pool_proj', 'inception_5b/5x5', 'inception_5b/output', 'p5', 'upsample_p5', 'add_p4', 'toplayer_p4', 'upsample_p4', 'add_p3', 'toplayer_p3', 'upsample_p3', 'add_p2', 'toplayer_p2']\n",
      "('models', 'layer', 'ncs2-roofline.json')\n",
      "{}\n",
      "Initial 14 entries...\n",
      "generate Base-layer\n",
      "generate Exp-layer\n",
      "generate Log-layer\n",
      "generate Add-layer\n",
      "generate Tanh-layer\n",
      "generate Pool-layer\n",
      "generate DepthwiseConv-layer\n",
      "generate FullyConnected-layer\n",
      "generate Conv-layer\n",
      "generate ConvTranspose-layer\n",
      "Estimation Type: roofline\n",
      "roofline estimation\n",
      "Compute Parameters Pool: {'type': 'Pool', 'parents': ['conv2/3x3'], 'children': ['inception_3a/pool', 'inception_3a/5x5_reduce', 'inception_3a/1x1', 'inception_3a/3x3_reduce'], 'output_shape': [-1, 32, 64, 192], 'input_shape': [-1, 64, 128, 192], 'kernel_shape': [1, 3, 3, 1], 'strides': [1, 2, 2, 1], 'pads': [0, 0, 0, 0, 0, 1, 1, 0], 'pooling_type': 'MAX', 'left_parents': 0, 'time_ms': 0}\n",
      "noarch\n",
      "{'type': 'Pool', 'parents': ['conv2/3x3'], 'children': ['inception_3a/pool', 'inception_3a/5x5_reduce', 'inception_3a/1x1', 'inception_3a/3x3_reduce'], 'output_shape': [-1, 32, 64, 192], 'input_shape': [-1, 64, 128, 192], 'kernel_shape': [1, 3, 3, 1], 'strides': [1, 2, 2, 1], 'pads': [0, 0, 0, 0, 0, 1, 1, 0], 'pooling_type': 'MAX', 'left_parents': 0, 'time_ms': 0}\n",
      "Data Roof\n",
      "0.0\n",
      "0.0006792792403381403\n",
      "0.6792792403381404\n",
      "Estimation Type: roofline\n",
      "roofline estimation\n",
      "Compute Parameters Pool: {'type': 'Pool', 'parents': ['pool2/3x3_s2'], 'children': ['inception_3a/pool_proj'], 'output_shape': [-1, 32, 64, 192], 'input_shape': [-1, 32, 64, 192], 'kernel_shape': [1, 3, 3, 1], 'strides': [1, 1, 1, 1], 'pads': [0, 1, 1, 0, 0, 1, 1, 0], 'pooling_type': 'MAX', 'left_parents': 0, 'time_ms': 0}\n",
      "noarch\n",
      "{'type': 'Pool', 'parents': ['pool2/3x3_s2'], 'children': ['inception_3a/pool_proj'], 'output_shape': [-1, 32, 64, 192], 'input_shape': [-1, 32, 64, 192], 'kernel_shape': [1, 3, 3, 1], 'strides': [1, 1, 1, 1], 'pads': [0, 1, 1, 0, 0, 1, 1, 0], 'pooling_type': 'MAX', 'left_parents': 0, 'time_ms': 0}\n",
      "Data Roof\n",
      "0.0\n",
      "0.000678782206747649\n",
      "0.678782206747649\n",
      "Estimation Type: roofline\n",
      "roofline estimation\n",
      "Compute Parameters Pool: {'type': 'Pool', 'parents': ['inception_3a/output'], 'children': ['inception_3b/pool_proj'], 'output_shape': [-1, 32, 64, 256], 'input_shape': [-1, 32, 64, 256], 'kernel_shape': [1, 3, 3, 1], 'strides': [1, 1, 1, 1], 'pads': [0, 1, 1, 0, 0, 1, 1, 0], 'pooling_type': 'MAX', 'left_parents': 0, 'time_ms': 0}\n",
      "noarch\n",
      "{'type': 'Pool', 'parents': ['inception_3a/output'], 'children': ['inception_3b/pool_proj'], 'output_shape': [-1, 32, 64, 256], 'input_shape': [-1, 32, 64, 256], 'kernel_shape': [1, 3, 3, 1], 'strides': [1, 1, 1, 1], 'pads': [0, 1, 1, 0, 0, 1, 1, 0], 'pooling_type': 'MAX', 'left_parents': 0, 'time_ms': 0}\n",
      "Data Roof\n",
      "0.0\n",
      "0.0009049877163756996\n",
      "0.9049877163756996\n",
      "Estimation Type: roofline\n",
      "roofline estimation\n",
      "Compute Parameters Pool: {'type': 'Pool', 'parents': ['inception_3b/output'], 'children': ['inception_4a/pool', 'inception_4a/3x3_reduce', 'inception_4a/5x5_reduce', 'inception_4a/1x1'], 'output_shape': [-1, 16, 32, 480], 'input_shape': [-1, 32, 64, 480], 'kernel_shape': [1, 3, 3, 1], 'strides': [1, 2, 2, 1], 'pads': [0, 0, 0, 0, 0, 1, 1, 0], 'pooling_type': 'MAX', 'left_parents': 0, 'time_ms': 0}\n",
      "noarch\n",
      "{'type': 'Pool', 'parents': ['inception_3b/output'], 'children': ['inception_4a/pool', 'inception_4a/3x3_reduce', 'inception_4a/5x5_reduce', 'inception_4a/1x1'], 'output_shape': [-1, 16, 32, 480], 'input_shape': [-1, 32, 64, 480], 'kernel_shape': [1, 3, 3, 1], 'strides': [1, 2, 2, 1], 'pads': [0, 0, 0, 0, 0, 1, 1, 0], 'pooling_type': 'MAX', 'left_parents': 0, 'time_ms': 0}\n",
      "Data Roof\n",
      "0.0\n",
      "0.0004244666862795891\n",
      "0.4244666862795891\n",
      "Estimation Type: roofline\n",
      "roofline estimation\n",
      "Compute Parameters Pool: {'type': 'Pool', 'parents': ['pool3/3x3_s2'], 'children': ['inception_4a/pool_proj'], 'output_shape': [-1, 16, 32, 480], 'input_shape': [-1, 16, 32, 480], 'kernel_shape': [1, 3, 3, 1], 'strides': [1, 1, 1, 1], 'pads': [0, 1, 1, 0, 0, 1, 1, 0], 'pooling_type': 'MAX', 'left_parents': 0, 'time_ms': 0}\n",
      "noarch\n",
      "{'type': 'Pool', 'parents': ['pool3/3x3_s2'], 'children': ['inception_4a/pool_proj'], 'output_shape': [-1, 16, 32, 480], 'input_shape': [-1, 16, 32, 480], 'kernel_shape': [1, 3, 3, 1], 'strides': [1, 1, 1, 1], 'pads': [0, 1, 1, 0, 0, 1, 1, 0], 'pooling_type': 'MAX', 'left_parents': 0, 'time_ms': 0}\n",
      "Data Roof\n",
      "0.0\n",
      "0.00042421816948434347\n",
      "0.4242181694843435\n",
      "Estimation Type: roofline\n",
      "roofline estimation\n",
      "Compute Parameters Pool: {'type': 'Pool', 'parents': ['inception_4a/output'], 'children': ['inception_4b/pool_proj'], 'output_shape': [-1, 16, 32, 512], 'input_shape': [-1, 16, 32, 512], 'kernel_shape': [1, 3, 3, 1], 'strides': [1, 1, 1, 1], 'pads': [0, 1, 1, 0, 0, 1, 1, 0], 'pooling_type': 'MAX', 'left_parents': 0, 'time_ms': 0}\n",
      "noarch\n",
      "{'type': 'Pool', 'parents': ['inception_4a/output'], 'children': ['inception_4b/pool_proj'], 'output_shape': [-1, 16, 32, 512], 'input_shape': [-1, 16, 32, 512], 'kernel_shape': [1, 3, 3, 1], 'strides': [1, 1, 1, 1], 'pads': [0, 1, 1, 0, 0, 1, 1, 0], 'pooling_type': 'MAX', 'left_parents': 0, 'time_ms': 0}\n",
      "Data Roof\n",
      "0.0\n",
      "0.0004524938581878498\n",
      "0.4524938581878498\n",
      "Estimation Type: roofline\n",
      "roofline estimation\n",
      "Compute Parameters Pool: {'type': 'Pool', 'parents': ['inception_4b/output'], 'children': ['inception_4c/pool_proj'], 'output_shape': [-1, 16, 32, 512], 'input_shape': [-1, 16, 32, 512], 'kernel_shape': [1, 3, 3, 1], 'strides': [1, 1, 1, 1], 'pads': [0, 1, 1, 0, 0, 1, 1, 0], 'pooling_type': 'MAX', 'left_parents': 0, 'time_ms': 0}\n",
      "noarch\n",
      "{'type': 'Pool', 'parents': ['inception_4b/output'], 'children': ['inception_4c/pool_proj'], 'output_shape': [-1, 16, 32, 512], 'input_shape': [-1, 16, 32, 512], 'kernel_shape': [1, 3, 3, 1], 'strides': [1, 1, 1, 1], 'pads': [0, 1, 1, 0, 0, 1, 1, 0], 'pooling_type': 'MAX', 'left_parents': 0, 'time_ms': 0}\n",
      "Data Roof\n",
      "0.0\n",
      "0.0004524938581878498\n",
      "0.4524938581878498\n",
      "Estimation Type: roofline\n",
      "roofline estimation\n",
      "Compute Parameters Pool: {'type': 'Pool', 'parents': ['inception_4c/output'], 'children': ['inception_4d/pool_proj'], 'output_shape': [-1, 16, 32, 512], 'input_shape': [-1, 16, 32, 512], 'kernel_shape': [1, 3, 3, 1], 'strides': [1, 1, 1, 1], 'pads': [0, 1, 1, 0, 0, 1, 1, 0], 'pooling_type': 'MAX', 'left_parents': 0, 'time_ms': 0}\n",
      "noarch\n",
      "{'type': 'Pool', 'parents': ['inception_4c/output'], 'children': ['inception_4d/pool_proj'], 'output_shape': [-1, 16, 32, 512], 'input_shape': [-1, 16, 32, 512], 'kernel_shape': [1, 3, 3, 1], 'strides': [1, 1, 1, 1], 'pads': [0, 1, 1, 0, 0, 1, 1, 0], 'pooling_type': 'MAX', 'left_parents': 0, 'time_ms': 0}\n",
      "Data Roof\n",
      "0.0\n",
      "0.0004524938581878498\n",
      "0.4524938581878498\n",
      "Estimation Type: roofline\n",
      "roofline estimation\n",
      "Compute Parameters Pool: {'type': 'Pool', 'parents': ['inception_4d/output'], 'children': ['inception_4e/pool_proj'], 'output_shape': [-1, 16, 32, 528], 'input_shape': [-1, 16, 32, 528], 'kernel_shape': [1, 3, 3, 1], 'strides': [1, 1, 1, 1], 'pads': [0, 1, 1, 0, 0, 1, 1, 0], 'pooling_type': 'MAX', 'left_parents': 0, 'time_ms': 0}\n",
      "noarch\n",
      "{'type': 'Pool', 'parents': ['inception_4d/output'], 'children': ['inception_4e/pool_proj'], 'output_shape': [-1, 16, 32, 528], 'input_shape': [-1, 16, 32, 528], 'kernel_shape': [1, 3, 3, 1], 'strides': [1, 1, 1, 1], 'pads': [0, 1, 1, 0, 0, 1, 1, 0], 'pooling_type': 'MAX', 'left_parents': 0, 'time_ms': 0}\n",
      "Data Roof\n",
      "0.0\n",
      "0.00046663170253960295\n",
      "0.46663170253960295\n",
      "Estimation Type: roofline\n",
      "roofline estimation\n",
      "Compute Parameters Pool: {'type': 'Pool', 'parents': ['inception_4e/output'], 'children': ['inception_5a/3x3_reduce', 'inception_5a/5x5_reduce', 'inception_5a/1x1', 'inception_5a/pool'], 'output_shape': [-1, 8, 16, 832], 'input_shape': [-1, 16, 32, 832], 'kernel_shape': [1, 3, 3, 1], 'strides': [1, 2, 2, 1], 'pads': [0, 0, 0, 0, 0, 1, 1, 0], 'pooling_type': 'MAX', 'left_parents': 0, 'time_ms': 0}\n",
      "noarch\n",
      "{'type': 'Pool', 'parents': ['inception_4e/output'], 'children': ['inception_5a/3x3_reduce', 'inception_5a/5x5_reduce', 'inception_5a/1x1', 'inception_5a/pool'], 'output_shape': [-1, 8, 16, 832], 'input_shape': [-1, 16, 32, 832], 'kernel_shape': [1, 3, 3, 1], 'strides': [1, 2, 2, 1], 'pads': [0, 0, 0, 0, 0, 1, 1, 0], 'pooling_type': 'MAX', 'left_parents': 0, 'time_ms': 0}\n",
      "Data Roof\n",
      "0.0\n",
      "0.00018395765443628823\n",
      "0.18395765443628823\n",
      "Estimation Type: roofline\n",
      "roofline estimation\n",
      "Compute Parameters Pool: {'type': 'Pool', 'parents': ['pool4/3x3_s2'], 'children': ['inception_5a/pool_proj'], 'output_shape': [-1, 8, 16, 832], 'input_shape': [-1, 8, 16, 832], 'kernel_shape': [1, 3, 3, 1], 'strides': [1, 1, 1, 1], 'pads': [0, 1, 1, 0, 0, 1, 1, 0], 'pooling_type': 'MAX', 'left_parents': 0, 'time_ms': 0}\n",
      "noarch\n",
      "{'type': 'Pool', 'parents': ['pool4/3x3_s2'], 'children': ['inception_5a/pool_proj'], 'output_shape': [-1, 8, 16, 832], 'input_shape': [-1, 8, 16, 832], 'kernel_shape': [1, 3, 3, 1], 'strides': [1, 1, 1, 1], 'pads': [0, 1, 1, 0, 0, 1, 1, 0], 'pooling_type': 'MAX', 'left_parents': 0, 'time_ms': 0}\n",
      "Data Roof\n",
      "0.0\n",
      "0.0001838333960386654\n",
      "0.18383339603866541\n",
      "Estimation Type: roofline\n",
      "roofline estimation\n",
      "Compute Parameters Pool: {'type': 'Pool', 'parents': ['inception_5a/output'], 'children': ['inception_5b/pool_proj'], 'output_shape': [-1, 8, 16, 832], 'input_shape': [-1, 8, 16, 832], 'kernel_shape': [1, 3, 3, 1], 'strides': [1, 1, 1, 1], 'pads': [0, 1, 1, 0, 0, 1, 1, 0], 'pooling_type': 'MAX', 'left_parents': 0, 'time_ms': 0}\n",
      "noarch\n",
      "{'type': 'Pool', 'parents': ['inception_5a/output'], 'children': ['inception_5b/pool_proj'], 'output_shape': [-1, 8, 16, 832], 'input_shape': [-1, 8, 16, 832], 'kernel_shape': [1, 3, 3, 1], 'strides': [1, 1, 1, 1], 'pads': [0, 1, 1, 0, 0, 1, 1, 0], 'pooling_type': 'MAX', 'left_parents': 0, 'time_ms': 0}\n",
      "Data Roof\n",
      "0.0\n",
      "0.0001838333960386654\n",
      "0.18383339603866541\n",
      "('results',)\n",
      "Results stored in /mnt/d/100_University/600_Comparison/estimation/annette/src/annette/../../database/results/ncs2-roofline/cf_cityscapes_ov.json \n",
      "The network cf_cityscapes is layer results are: \n",
      "                name           type  time(ms)       num_ops  num_inputs  \\\n",
      "0               data      DataInput  0.138470  0.000000e+00         0.0   \n",
      "1       conv1/7x7_s2       ConvPool  0.876977  0.000000e+00    393216.0   \n",
      "2   conv2/3x3_reduce           Conv  0.370696  6.710886e+07    524288.0   \n",
      "3          conv2/3x3           Conv  5.670400  1.811939e+09    524288.0   \n",
      "4       pool2/3x3_s2           Pool  0.679279  0.000000e+00         0.0   \n",
      "..               ...            ...       ...           ...         ...   \n",
      "87            add_p3            Add  0.069235  0.000000e+00     65536.0   \n",
      "88       toplayer_p3           Conv  0.118133  3.774874e+07     65536.0   \n",
      "89       upsample_p3  ConvTranspose  2.669845  2.684355e+08     65536.0   \n",
      "90            add_p2            Add  0.276940  0.000000e+00    262144.0   \n",
      "91       toplayer_p2  ConvTranspose  6.340881  6.375342e+08    262144.0   \n",
      "\n",
      "    num_outputs  num_weights  \n",
      "0      393216.0          0.0  \n",
      "1     2097152.0       9408.0  \n",
      "2      524288.0       4096.0  \n",
      "3     1572864.0     110592.0  \n",
      "4           0.0          0.0  \n",
      "..          ...          ...  \n",
      "87      65536.0          0.0  \n",
      "88      65536.0       9216.0  \n",
      "89     262144.0      16384.0  \n",
      "90     262144.0          0.0  \n",
      "91     622592.0       9728.0  \n",
      "\n",
      "[92 rows x 7 columns]\n",
      "The network cf_cityscapes is executed in 44.39953026531523 ms \n"
     ]
    }
   ],
   "source": [
    "import annette.estimate\n",
    "network = 'cf_cityscapes'\n",
    "optimizer = 'ov'\n",
    "model = 'ncs2-roofline'\n",
    "total, layerwise = annette.estimate.main([network, optimizer, model])"
   ]
  },
  {
   "cell_type": "code",
   "execution_count": 30,
   "metadata": {},
   "outputs": [
    {
     "output_type": "stream",
     "name": "stdout",
     "text": [
      "Total execution time: 44.39953026531523\nLayer execution time: \n                 name           type  time(ms)       num_ops  num_inputs  \\\n0               data      DataInput  0.138470  0.000000e+00         0.0   \n1       conv1/7x7_s2       ConvPool  0.876977  0.000000e+00    393216.0   \n2   conv2/3x3_reduce           Conv  0.370696  6.710886e+07    524288.0   \n3          conv2/3x3           Conv  5.670400  1.811939e+09    524288.0   \n4       pool2/3x3_s2           Pool  0.679279  0.000000e+00         0.0   \n..               ...            ...       ...           ...         ...   \n87            add_p3            Add  0.069235  0.000000e+00     65536.0   \n88       toplayer_p3           Conv  0.118133  3.774874e+07     65536.0   \n89       upsample_p3  ConvTranspose  2.669845  2.684355e+08     65536.0   \n90            add_p2            Add  0.276940  0.000000e+00    262144.0   \n91       toplayer_p2  ConvTranspose  6.340881  6.375342e+08    262144.0   \n\n    num_outputs  num_weights  \n0      393216.0          0.0  \n1     2097152.0       9408.0  \n2      524288.0       4096.0  \n3     1572864.0     110592.0  \n4           0.0          0.0  \n..          ...          ...  \n87      65536.0          0.0  \n88      65536.0       9216.0  \n89     262144.0      16384.0  \n90     262144.0          0.0  \n91     622592.0       9728.0  \n\n[92 rows x 7 columns]\n"
     ]
    }
   ],
   "source": [
    "print(\"Total execution time: %s\" % total)\n",
    "print(\"Layer execution time: \\n\", layerwise)"
   ]
  },
  {
   "cell_type": "code",
   "execution_count": 32,
   "metadata": {},
   "outputs": [
    {
     "output_type": "display_data",
     "data": {
      "application/vnd.plotly.v1+json": {
       "config": {
        "plotlyServerURL": "https://plot.ly"
       },
       "data": [
        {
         "alignmentgroup": "True",
         "hovertemplate": "type=DataInput<br>name=%{x}<br>time(ms)=%{y}<extra></extra>",
         "legendgroup": "DataInput",
         "marker": {
          "color": "#636efa"
         },
         "name": "DataInput",
         "offsetgroup": "DataInput",
         "orientation": "v",
         "showlegend": true,
         "textposition": "auto",
         "type": "bar",
         "x": [
          "data"
         ],
         "xaxis": "x",
         "y": [
          0.1384700460995408
         ],
         "yaxis": "y"
        },
        {
         "alignmentgroup": "True",
         "hovertemplate": "type=ConvPool<br>name=%{x}<br>time(ms)=%{y}<extra></extra>",
         "legendgroup": "ConvPool",
         "marker": {
          "color": "#EF553B"
         },
         "name": "ConvPool",
         "offsetgroup": "ConvPool",
         "orientation": "v",
         "showlegend": true,
         "textposition": "auto",
         "type": "bar",
         "x": [
          "conv1/7x7_s2"
         ],
         "xaxis": "x",
         "y": [
          0.8769769586304251
         ],
         "yaxis": "y"
        },
        {
         "alignmentgroup": "True",
         "hovertemplate": "type=Conv<br>name=%{x}<br>time(ms)=%{y}<extra></extra>",
         "legendgroup": "Conv",
         "marker": {
          "color": "#00cc96"
         },
         "name": "Conv",
         "offsetgroup": "Conv",
         "orientation": "v",
         "showlegend": true,
         "textposition": "auto",
         "type": "bar",
         "x": [
          "conv2/3x3_reduce",
          "conv2/3x3",
          "latlayer_2c",
          "inception_3a/5x5_reduce",
          "inception_3a/1x1",
          "inception_3a/3x3_reduce",
          "inception_3a/pool_proj",
          "inception_3a/5x5",
          "inception_3a/3x3",
          "inception_3b/3x3_reduce",
          "inception_3b/5x5_reduce",
          "inception_3b/1x1",
          "inception_3b/3x3",
          "inception_3b/5x5",
          "inception_3b/pool_proj",
          "latlayer_3d",
          "inception_4a/3x3_reduce",
          "inception_4a/5x5_reduce",
          "inception_4a/1x1",
          "inception_4a/pool_proj",
          "inception_4a/3x3",
          "inception_4a/5x5",
          "inception_4b/1x1",
          "inception_4b/5x5_reduce",
          "inception_4b/3x3_reduce",
          "inception_4b/5x5",
          "inception_4b/3x3",
          "inception_4b/pool_proj",
          "inception_4c/3x3_reduce",
          "inception_4c/5x5_reduce",
          "inception_4c/1x1",
          "inception_4c/pool_proj",
          "inception_4c/3x3",
          "inception_4c/5x5",
          "inception_4d/3x3_reduce",
          "inception_4d/1x1",
          "inception_4d/5x5_reduce",
          "inception_4d/3x3",
          "inception_4d/5x5",
          "inception_4d/pool_proj",
          "inception_4e/1x1",
          "inception_4e/5x5_reduce",
          "inception_4e/3x3_reduce",
          "inception_4e/5x5",
          "inception_4e/pool_proj",
          "inception_4e/3x3",
          "latlayer_4f",
          "inception_5a/3x3_reduce",
          "inception_5a/5x5_reduce",
          "inception_5a/1x1",
          "inception_5a/3x3",
          "inception_5a/5x5",
          "inception_5a/pool_proj",
          "inception_5b/3x3_reduce",
          "inception_5b/1x1",
          "inception_5b/5x5_reduce",
          "inception_5b/3x3",
          "inception_5b/pool_proj",
          "inception_5b/5x5",
          "p5",
          "toplayer_p4",
          "toplayer_p3"
         ],
         "xaxis": "x",
         "y": [
          0.370695852578979,
          5.670400000017184,
          0.6483571429348292,
          0.15109101384298854,
          0.18895391707333173,
          0.2362666666673827,
          0.16371198158643627,
          0.1640740740745713,
          1.417600000004296,
          0.42002962963090257,
          0.210589861776385,
          0.42002962963090257,
          2.835200000008592,
          0.9844444444474277,
          0.23655299542004887,
          0.37466244244120545,
          0.1476666666671142,
          0.09213306452716843,
          0.2953333333342284,
          0.1089009216720347,
          0.5759000000017453,
          0.061527777777964233,
          0.2625185185193141,
          0.10096774194758185,
          0.18376296296351988,
          0.12305555555592847,
          0.7235666666688595,
          0.11539170508295067,
          0.21001481481545128,
          0.10096774194758185,
          0.21001481481545128,
          0.11539170508295067,
          0.9450666666695308,
          0.12305555555592847,
          0.2362666666673827,
          0.18376296296351988,
          0.10385253457465561,
          1.1961000000036248,
          0.1640740740745713,
          0.11539170508295067,
          0.43315555555686824,
          0.10691762674092148,
          0.2707222222230427,
          0.3281481481491426,
          0.21657777777843412,
          1.4766666666711419,
          0.16515437789997314,
          0.10664814814847136,
          0.0483202765034856,
          0.17063703703755417,
          0.36916666666778547,
          0.08203703703728565,
          0.08531851851877709,
          0.1279777777781656,
          0.2559555555563312,
          0.053729262679248914,
          0.531600000001611,
          0.08531851851877709,
          0.12305555555592847,
          0.05913824885501222,
          0.029533333333422836,
          0.11813333333369135
         ],
         "yaxis": "y"
        },
        {
         "alignmentgroup": "True",
         "hovertemplate": "type=Pool<br>name=%{x}<br>time(ms)=%{y}<extra></extra>",
         "legendgroup": "Pool",
         "marker": {
          "color": "#ab63fa"
         },
         "name": "Pool",
         "offsetgroup": "Pool",
         "orientation": "v",
         "showlegend": true,
         "textposition": "auto",
         "type": "bar",
         "x": [
          "pool2/3x3_s2",
          "inception_3a/pool",
          "inception_3b/pool",
          "pool3/3x3_s2",
          "inception_4a/pool",
          "inception_4b/pool",
          "inception_4c/pool",
          "inception_4d/pool",
          "inception_4e/pool",
          "pool4/3x3_s2",
          "inception_5a/pool",
          "inception_5b/pool"
         ],
         "xaxis": "x",
         "y": [
          0.6792792403381404,
          0.678782206747649,
          0.9049877163756996,
          0.4244666862795891,
          0.4242181694843435,
          0.4524938581878498,
          0.4524938581878498,
          0.4524938581878498,
          0.46663170253960295,
          0.18395765443628823,
          0.18383339603866541,
          0.18383339603866541
         ],
         "yaxis": "y"
        },
        {
         "alignmentgroup": "True",
         "hovertemplate": "type=Concat<br>name=%{x}<br>time(ms)=%{y}<extra></extra>",
         "legendgroup": "Concat",
         "marker": {
          "color": "#FFA15A"
         },
         "name": "Concat",
         "offsetgroup": "Concat",
         "orientation": "v",
         "showlegend": true,
         "textposition": "auto",
         "type": "bar",
         "x": [
          "inception_3a/output",
          "inception_3b/output",
          "inception_4a/output",
          "inception_4b/output",
          "inception_4c/output",
          "inception_4d/output",
          "inception_4e/output",
          "inception_5a/output",
          "inception_5b/output"
         ],
         "xaxis": "x",
         "y": [
          0.23078341016590134,
          0.43848847931521256,
          0.12693087559124575,
          0.12116129033709822,
          0.11539170508295067,
          0.11539170508295067,
          0.19616589864101616,
          0.04904147466025404,
          0.06346543779562287
         ],
         "yaxis": "y"
        },
        {
         "alignmentgroup": "True",
         "hovertemplate": "type=ConvTranspose<br>name=%{x}<br>time(ms)=%{y}<extra></extra>",
         "legendgroup": "ConvTranspose",
         "marker": {
          "color": "#19d3f3"
         },
         "name": "ConvTranspose",
         "offsetgroup": "ConvTranspose",
         "orientation": "v",
         "showlegend": true,
         "textposition": "auto",
         "type": "bar",
         "x": [
          "upsample_p5",
          "upsample_p4",
          "upsample_p3",
          "toplayer_p2"
         ],
         "xaxis": "x",
         "y": [
          0.16686528671876244,
          0.6674611468750498,
          2.669844587500199,
          6.3408808953129725
         ],
         "yaxis": "y"
        },
        {
         "alignmentgroup": "True",
         "hovertemplate": "type=Add<br>name=%{x}<br>time(ms)=%{y}<extra></extra>",
         "legendgroup": "Add",
         "marker": {
          "color": "#FF6692"
         },
         "name": "Add",
         "offsetgroup": "Add",
         "orientation": "v",
         "showlegend": true,
         "textposition": "auto",
         "type": "bar",
         "x": [
          "add_p4",
          "add_p3",
          "add_p2"
         ],
         "xaxis": "x",
         "y": [
          0.0173087557624426,
          0.0692350230497704,
          0.2769400921990816
         ],
         "yaxis": "y"
        }
       ],
       "layout": {
        "barmode": "relative",
        "legend": {
         "title": {
          "text": "type"
         },
         "tracegroupgap": 0
        },
        "template": {
         "data": {
          "bar": [
           {
            "error_x": {
             "color": "#2a3f5f"
            },
            "error_y": {
             "color": "#2a3f5f"
            },
            "marker": {
             "line": {
              "color": "#E5ECF6",
              "width": 0.5
             }
            },
            "type": "bar"
           }
          ],
          "barpolar": [
           {
            "marker": {
             "line": {
              "color": "#E5ECF6",
              "width": 0.5
             }
            },
            "type": "barpolar"
           }
          ],
          "carpet": [
           {
            "aaxis": {
             "endlinecolor": "#2a3f5f",
             "gridcolor": "white",
             "linecolor": "white",
             "minorgridcolor": "white",
             "startlinecolor": "#2a3f5f"
            },
            "baxis": {
             "endlinecolor": "#2a3f5f",
             "gridcolor": "white",
             "linecolor": "white",
             "minorgridcolor": "white",
             "startlinecolor": "#2a3f5f"
            },
            "type": "carpet"
           }
          ],
          "choropleth": [
           {
            "colorbar": {
             "outlinewidth": 0,
             "ticks": ""
            },
            "type": "choropleth"
           }
          ],
          "contour": [
           {
            "colorbar": {
             "outlinewidth": 0,
             "ticks": ""
            },
            "colorscale": [
             [
              0,
              "#0d0887"
             ],
             [
              0.1111111111111111,
              "#46039f"
             ],
             [
              0.2222222222222222,
              "#7201a8"
             ],
             [
              0.3333333333333333,
              "#9c179e"
             ],
             [
              0.4444444444444444,
              "#bd3786"
             ],
             [
              0.5555555555555556,
              "#d8576b"
             ],
             [
              0.6666666666666666,
              "#ed7953"
             ],
             [
              0.7777777777777778,
              "#fb9f3a"
             ],
             [
              0.8888888888888888,
              "#fdca26"
             ],
             [
              1,
              "#f0f921"
             ]
            ],
            "type": "contour"
           }
          ],
          "contourcarpet": [
           {
            "colorbar": {
             "outlinewidth": 0,
             "ticks": ""
            },
            "type": "contourcarpet"
           }
          ],
          "heatmap": [
           {
            "colorbar": {
             "outlinewidth": 0,
             "ticks": ""
            },
            "colorscale": [
             [
              0,
              "#0d0887"
             ],
             [
              0.1111111111111111,
              "#46039f"
             ],
             [
              0.2222222222222222,
              "#7201a8"
             ],
             [
              0.3333333333333333,
              "#9c179e"
             ],
             [
              0.4444444444444444,
              "#bd3786"
             ],
             [
              0.5555555555555556,
              "#d8576b"
             ],
             [
              0.6666666666666666,
              "#ed7953"
             ],
             [
              0.7777777777777778,
              "#fb9f3a"
             ],
             [
              0.8888888888888888,
              "#fdca26"
             ],
             [
              1,
              "#f0f921"
             ]
            ],
            "type": "heatmap"
           }
          ],
          "heatmapgl": [
           {
            "colorbar": {
             "outlinewidth": 0,
             "ticks": ""
            },
            "colorscale": [
             [
              0,
              "#0d0887"
             ],
             [
              0.1111111111111111,
              "#46039f"
             ],
             [
              0.2222222222222222,
              "#7201a8"
             ],
             [
              0.3333333333333333,
              "#9c179e"
             ],
             [
              0.4444444444444444,
              "#bd3786"
             ],
             [
              0.5555555555555556,
              "#d8576b"
             ],
             [
              0.6666666666666666,
              "#ed7953"
             ],
             [
              0.7777777777777778,
              "#fb9f3a"
             ],
             [
              0.8888888888888888,
              "#fdca26"
             ],
             [
              1,
              "#f0f921"
             ]
            ],
            "type": "heatmapgl"
           }
          ],
          "histogram": [
           {
            "marker": {
             "colorbar": {
              "outlinewidth": 0,
              "ticks": ""
             }
            },
            "type": "histogram"
           }
          ],
          "histogram2d": [
           {
            "colorbar": {
             "outlinewidth": 0,
             "ticks": ""
            },
            "colorscale": [
             [
              0,
              "#0d0887"
             ],
             [
              0.1111111111111111,
              "#46039f"
             ],
             [
              0.2222222222222222,
              "#7201a8"
             ],
             [
              0.3333333333333333,
              "#9c179e"
             ],
             [
              0.4444444444444444,
              "#bd3786"
             ],
             [
              0.5555555555555556,
              "#d8576b"
             ],
             [
              0.6666666666666666,
              "#ed7953"
             ],
             [
              0.7777777777777778,
              "#fb9f3a"
             ],
             [
              0.8888888888888888,
              "#fdca26"
             ],
             [
              1,
              "#f0f921"
             ]
            ],
            "type": "histogram2d"
           }
          ],
          "histogram2dcontour": [
           {
            "colorbar": {
             "outlinewidth": 0,
             "ticks": ""
            },
            "colorscale": [
             [
              0,
              "#0d0887"
             ],
             [
              0.1111111111111111,
              "#46039f"
             ],
             [
              0.2222222222222222,
              "#7201a8"
             ],
             [
              0.3333333333333333,
              "#9c179e"
             ],
             [
              0.4444444444444444,
              "#bd3786"
             ],
             [
              0.5555555555555556,
              "#d8576b"
             ],
             [
              0.6666666666666666,
              "#ed7953"
             ],
             [
              0.7777777777777778,
              "#fb9f3a"
             ],
             [
              0.8888888888888888,
              "#fdca26"
             ],
             [
              1,
              "#f0f921"
             ]
            ],
            "type": "histogram2dcontour"
           }
          ],
          "mesh3d": [
           {
            "colorbar": {
             "outlinewidth": 0,
             "ticks": ""
            },
            "type": "mesh3d"
           }
          ],
          "parcoords": [
           {
            "line": {
             "colorbar": {
              "outlinewidth": 0,
              "ticks": ""
             }
            },
            "type": "parcoords"
           }
          ],
          "pie": [
           {
            "automargin": true,
            "type": "pie"
           }
          ],
          "scatter": [
           {
            "marker": {
             "colorbar": {
              "outlinewidth": 0,
              "ticks": ""
             }
            },
            "type": "scatter"
           }
          ],
          "scatter3d": [
           {
            "line": {
             "colorbar": {
              "outlinewidth": 0,
              "ticks": ""
             }
            },
            "marker": {
             "colorbar": {
              "outlinewidth": 0,
              "ticks": ""
             }
            },
            "type": "scatter3d"
           }
          ],
          "scattercarpet": [
           {
            "marker": {
             "colorbar": {
              "outlinewidth": 0,
              "ticks": ""
             }
            },
            "type": "scattercarpet"
           }
          ],
          "scattergeo": [
           {
            "marker": {
             "colorbar": {
              "outlinewidth": 0,
              "ticks": ""
             }
            },
            "type": "scattergeo"
           }
          ],
          "scattergl": [
           {
            "marker": {
             "colorbar": {
              "outlinewidth": 0,
              "ticks": ""
             }
            },
            "type": "scattergl"
           }
          ],
          "scattermapbox": [
           {
            "marker": {
             "colorbar": {
              "outlinewidth": 0,
              "ticks": ""
             }
            },
            "type": "scattermapbox"
           }
          ],
          "scatterpolar": [
           {
            "marker": {
             "colorbar": {
              "outlinewidth": 0,
              "ticks": ""
             }
            },
            "type": "scatterpolar"
           }
          ],
          "scatterpolargl": [
           {
            "marker": {
             "colorbar": {
              "outlinewidth": 0,
              "ticks": ""
             }
            },
            "type": "scatterpolargl"
           }
          ],
          "scatterternary": [
           {
            "marker": {
             "colorbar": {
              "outlinewidth": 0,
              "ticks": ""
             }
            },
            "type": "scatterternary"
           }
          ],
          "surface": [
           {
            "colorbar": {
             "outlinewidth": 0,
             "ticks": ""
            },
            "colorscale": [
             [
              0,
              "#0d0887"
             ],
             [
              0.1111111111111111,
              "#46039f"
             ],
             [
              0.2222222222222222,
              "#7201a8"
             ],
             [
              0.3333333333333333,
              "#9c179e"
             ],
             [
              0.4444444444444444,
              "#bd3786"
             ],
             [
              0.5555555555555556,
              "#d8576b"
             ],
             [
              0.6666666666666666,
              "#ed7953"
             ],
             [
              0.7777777777777778,
              "#fb9f3a"
             ],
             [
              0.8888888888888888,
              "#fdca26"
             ],
             [
              1,
              "#f0f921"
             ]
            ],
            "type": "surface"
           }
          ],
          "table": [
           {
            "cells": {
             "fill": {
              "color": "#EBF0F8"
             },
             "line": {
              "color": "white"
             }
            },
            "header": {
             "fill": {
              "color": "#C8D4E3"
             },
             "line": {
              "color": "white"
             }
            },
            "type": "table"
           }
          ]
         },
         "layout": {
          "annotationdefaults": {
           "arrowcolor": "#2a3f5f",
           "arrowhead": 0,
           "arrowwidth": 1
          },
          "autotypenumbers": "strict",
          "coloraxis": {
           "colorbar": {
            "outlinewidth": 0,
            "ticks": ""
           }
          },
          "colorscale": {
           "diverging": [
            [
             0,
             "#8e0152"
            ],
            [
             0.1,
             "#c51b7d"
            ],
            [
             0.2,
             "#de77ae"
            ],
            [
             0.3,
             "#f1b6da"
            ],
            [
             0.4,
             "#fde0ef"
            ],
            [
             0.5,
             "#f7f7f7"
            ],
            [
             0.6,
             "#e6f5d0"
            ],
            [
             0.7,
             "#b8e186"
            ],
            [
             0.8,
             "#7fbc41"
            ],
            [
             0.9,
             "#4d9221"
            ],
            [
             1,
             "#276419"
            ]
           ],
           "sequential": [
            [
             0,
             "#0d0887"
            ],
            [
             0.1111111111111111,
             "#46039f"
            ],
            [
             0.2222222222222222,
             "#7201a8"
            ],
            [
             0.3333333333333333,
             "#9c179e"
            ],
            [
             0.4444444444444444,
             "#bd3786"
            ],
            [
             0.5555555555555556,
             "#d8576b"
            ],
            [
             0.6666666666666666,
             "#ed7953"
            ],
            [
             0.7777777777777778,
             "#fb9f3a"
            ],
            [
             0.8888888888888888,
             "#fdca26"
            ],
            [
             1,
             "#f0f921"
            ]
           ],
           "sequentialminus": [
            [
             0,
             "#0d0887"
            ],
            [
             0.1111111111111111,
             "#46039f"
            ],
            [
             0.2222222222222222,
             "#7201a8"
            ],
            [
             0.3333333333333333,
             "#9c179e"
            ],
            [
             0.4444444444444444,
             "#bd3786"
            ],
            [
             0.5555555555555556,
             "#d8576b"
            ],
            [
             0.6666666666666666,
             "#ed7953"
            ],
            [
             0.7777777777777778,
             "#fb9f3a"
            ],
            [
             0.8888888888888888,
             "#fdca26"
            ],
            [
             1,
             "#f0f921"
            ]
           ]
          },
          "colorway": [
           "#636efa",
           "#EF553B",
           "#00cc96",
           "#ab63fa",
           "#FFA15A",
           "#19d3f3",
           "#FF6692",
           "#B6E880",
           "#FF97FF",
           "#FECB52"
          ],
          "font": {
           "color": "#2a3f5f"
          },
          "geo": {
           "bgcolor": "white",
           "lakecolor": "white",
           "landcolor": "#E5ECF6",
           "showlakes": true,
           "showland": true,
           "subunitcolor": "white"
          },
          "hoverlabel": {
           "align": "left"
          },
          "hovermode": "closest",
          "mapbox": {
           "style": "light"
          },
          "paper_bgcolor": "white",
          "plot_bgcolor": "#E5ECF6",
          "polar": {
           "angularaxis": {
            "gridcolor": "white",
            "linecolor": "white",
            "ticks": ""
           },
           "bgcolor": "#E5ECF6",
           "radialaxis": {
            "gridcolor": "white",
            "linecolor": "white",
            "ticks": ""
           }
          },
          "scene": {
           "xaxis": {
            "backgroundcolor": "#E5ECF6",
            "gridcolor": "white",
            "gridwidth": 2,
            "linecolor": "white",
            "showbackground": true,
            "ticks": "",
            "zerolinecolor": "white"
           },
           "yaxis": {
            "backgroundcolor": "#E5ECF6",
            "gridcolor": "white",
            "gridwidth": 2,
            "linecolor": "white",
            "showbackground": true,
            "ticks": "",
            "zerolinecolor": "white"
           },
           "zaxis": {
            "backgroundcolor": "#E5ECF6",
            "gridcolor": "white",
            "gridwidth": 2,
            "linecolor": "white",
            "showbackground": true,
            "ticks": "",
            "zerolinecolor": "white"
           }
          },
          "shapedefaults": {
           "line": {
            "color": "#2a3f5f"
           }
          },
          "ternary": {
           "aaxis": {
            "gridcolor": "white",
            "linecolor": "white",
            "ticks": ""
           },
           "baxis": {
            "gridcolor": "white",
            "linecolor": "white",
            "ticks": ""
           },
           "bgcolor": "#E5ECF6",
           "caxis": {
            "gridcolor": "white",
            "linecolor": "white",
            "ticks": ""
           }
          },
          "title": {
           "x": 0.05
          },
          "xaxis": {
           "automargin": true,
           "gridcolor": "white",
           "linecolor": "white",
           "ticks": "",
           "title": {
            "standoff": 15
           },
           "zerolinecolor": "white",
           "zerolinewidth": 2
          },
          "yaxis": {
           "automargin": true,
           "gridcolor": "white",
           "linecolor": "white",
           "ticks": "",
           "title": {
            "standoff": 15
           },
           "zerolinecolor": "white",
           "zerolinewidth": 2
          }
         }
        },
        "title": {
         "text": "network: cf_cityscapes, optimizer: ov, layermodel: ncs2-roofline"
        },
        "xaxis": {
         "anchor": "y",
         "domain": [
          0,
          1
         ],
         "title": {
          "text": "name"
         }
        },
        "yaxis": {
         "anchor": "x",
         "domain": [
          0,
          1
         ],
         "title": {
          "text": "time(ms)"
         }
        }
       }
      },
      "text/html": "<div>                            <div id=\"05e1fdbd-da10-4cff-9e64-abd88d3db122\" class=\"plotly-graph-div\" style=\"height:525px; width:100%;\"></div>            <script type=\"text/javascript\">                require([\"plotly\"], function(Plotly) {                    window.PLOTLYENV=window.PLOTLYENV || {};                                    if (document.getElementById(\"05e1fdbd-da10-4cff-9e64-abd88d3db122\")) {                    Plotly.newPlot(                        \"05e1fdbd-da10-4cff-9e64-abd88d3db122\",                        [{\"alignmentgroup\": \"True\", \"hovertemplate\": \"type=DataInput<br>name=%{x}<br>time(ms)=%{y}<extra></extra>\", \"legendgroup\": \"DataInput\", \"marker\": {\"color\": \"#636efa\"}, \"name\": \"DataInput\", \"offsetgroup\": \"DataInput\", \"orientation\": \"v\", \"showlegend\": true, \"textposition\": \"auto\", \"type\": \"bar\", \"x\": [\"data\"], \"xaxis\": \"x\", \"y\": [0.1384700460995408], \"yaxis\": \"y\"}, {\"alignmentgroup\": \"True\", \"hovertemplate\": \"type=ConvPool<br>name=%{x}<br>time(ms)=%{y}<extra></extra>\", \"legendgroup\": \"ConvPool\", \"marker\": {\"color\": \"#EF553B\"}, \"name\": \"ConvPool\", \"offsetgroup\": \"ConvPool\", \"orientation\": \"v\", \"showlegend\": true, \"textposition\": \"auto\", \"type\": \"bar\", \"x\": [\"conv1/7x7_s2\"], \"xaxis\": \"x\", \"y\": [0.8769769586304251], \"yaxis\": \"y\"}, {\"alignmentgroup\": \"True\", \"hovertemplate\": \"type=Conv<br>name=%{x}<br>time(ms)=%{y}<extra></extra>\", \"legendgroup\": \"Conv\", \"marker\": {\"color\": \"#00cc96\"}, \"name\": \"Conv\", \"offsetgroup\": \"Conv\", \"orientation\": \"v\", \"showlegend\": true, \"textposition\": \"auto\", \"type\": \"bar\", \"x\": [\"conv2/3x3_reduce\", \"conv2/3x3\", \"latlayer_2c\", \"inception_3a/5x5_reduce\", \"inception_3a/1x1\", \"inception_3a/3x3_reduce\", \"inception_3a/pool_proj\", \"inception_3a/5x5\", \"inception_3a/3x3\", \"inception_3b/3x3_reduce\", \"inception_3b/5x5_reduce\", \"inception_3b/1x1\", \"inception_3b/3x3\", \"inception_3b/5x5\", \"inception_3b/pool_proj\", \"latlayer_3d\", \"inception_4a/3x3_reduce\", \"inception_4a/5x5_reduce\", \"inception_4a/1x1\", \"inception_4a/pool_proj\", \"inception_4a/3x3\", \"inception_4a/5x5\", \"inception_4b/1x1\", \"inception_4b/5x5_reduce\", \"inception_4b/3x3_reduce\", \"inception_4b/5x5\", \"inception_4b/3x3\", \"inception_4b/pool_proj\", \"inception_4c/3x3_reduce\", \"inception_4c/5x5_reduce\", \"inception_4c/1x1\", \"inception_4c/pool_proj\", \"inception_4c/3x3\", \"inception_4c/5x5\", \"inception_4d/3x3_reduce\", \"inception_4d/1x1\", \"inception_4d/5x5_reduce\", \"inception_4d/3x3\", \"inception_4d/5x5\", \"inception_4d/pool_proj\", \"inception_4e/1x1\", \"inception_4e/5x5_reduce\", \"inception_4e/3x3_reduce\", \"inception_4e/5x5\", \"inception_4e/pool_proj\", \"inception_4e/3x3\", \"latlayer_4f\", \"inception_5a/3x3_reduce\", \"inception_5a/5x5_reduce\", \"inception_5a/1x1\", \"inception_5a/3x3\", \"inception_5a/5x5\", \"inception_5a/pool_proj\", \"inception_5b/3x3_reduce\", \"inception_5b/1x1\", \"inception_5b/5x5_reduce\", \"inception_5b/3x3\", \"inception_5b/pool_proj\", \"inception_5b/5x5\", \"p5\", \"toplayer_p4\", \"toplayer_p3\"], \"xaxis\": \"x\", \"y\": [0.370695852578979, 5.670400000017184, 0.6483571429348292, 0.15109101384298854, 0.18895391707333173, 0.2362666666673827, 0.16371198158643627, 0.1640740740745713, 1.417600000004296, 0.42002962963090257, 0.210589861776385, 0.42002962963090257, 2.835200000008592, 0.9844444444474277, 0.23655299542004887, 0.37466244244120545, 0.1476666666671142, 0.09213306452716843, 0.2953333333342284, 0.1089009216720347, 0.5759000000017453, 0.061527777777964233, 0.2625185185193141, 0.10096774194758185, 0.18376296296351988, 0.12305555555592847, 0.7235666666688595, 0.11539170508295067, 0.21001481481545128, 0.10096774194758185, 0.21001481481545128, 0.11539170508295067, 0.9450666666695308, 0.12305555555592847, 0.2362666666673827, 0.18376296296351988, 0.10385253457465561, 1.1961000000036248, 0.1640740740745713, 0.11539170508295067, 0.43315555555686824, 0.10691762674092148, 0.2707222222230427, 0.3281481481491426, 0.21657777777843412, 1.4766666666711419, 0.16515437789997314, 0.10664814814847136, 0.0483202765034856, 0.17063703703755417, 0.36916666666778547, 0.08203703703728565, 0.08531851851877709, 0.1279777777781656, 0.2559555555563312, 0.053729262679248914, 0.531600000001611, 0.08531851851877709, 0.12305555555592847, 0.05913824885501222, 0.029533333333422836, 0.11813333333369135], \"yaxis\": \"y\"}, {\"alignmentgroup\": \"True\", \"hovertemplate\": \"type=Pool<br>name=%{x}<br>time(ms)=%{y}<extra></extra>\", \"legendgroup\": \"Pool\", \"marker\": {\"color\": \"#ab63fa\"}, \"name\": \"Pool\", \"offsetgroup\": \"Pool\", \"orientation\": \"v\", \"showlegend\": true, \"textposition\": \"auto\", \"type\": \"bar\", \"x\": [\"pool2/3x3_s2\", \"inception_3a/pool\", \"inception_3b/pool\", \"pool3/3x3_s2\", \"inception_4a/pool\", \"inception_4b/pool\", \"inception_4c/pool\", \"inception_4d/pool\", \"inception_4e/pool\", \"pool4/3x3_s2\", \"inception_5a/pool\", \"inception_5b/pool\"], \"xaxis\": \"x\", \"y\": [0.6792792403381404, 0.678782206747649, 0.9049877163756996, 0.4244666862795891, 0.4242181694843435, 0.4524938581878498, 0.4524938581878498, 0.4524938581878498, 0.46663170253960295, 0.18395765443628823, 0.18383339603866541, 0.18383339603866541], \"yaxis\": \"y\"}, {\"alignmentgroup\": \"True\", \"hovertemplate\": \"type=Concat<br>name=%{x}<br>time(ms)=%{y}<extra></extra>\", \"legendgroup\": \"Concat\", \"marker\": {\"color\": \"#FFA15A\"}, \"name\": \"Concat\", \"offsetgroup\": \"Concat\", \"orientation\": \"v\", \"showlegend\": true, \"textposition\": \"auto\", \"type\": \"bar\", \"x\": [\"inception_3a/output\", \"inception_3b/output\", \"inception_4a/output\", \"inception_4b/output\", \"inception_4c/output\", \"inception_4d/output\", \"inception_4e/output\", \"inception_5a/output\", \"inception_5b/output\"], \"xaxis\": \"x\", \"y\": [0.23078341016590134, 0.43848847931521256, 0.12693087559124575, 0.12116129033709822, 0.11539170508295067, 0.11539170508295067, 0.19616589864101616, 0.04904147466025404, 0.06346543779562287], \"yaxis\": \"y\"}, {\"alignmentgroup\": \"True\", \"hovertemplate\": \"type=ConvTranspose<br>name=%{x}<br>time(ms)=%{y}<extra></extra>\", \"legendgroup\": \"ConvTranspose\", \"marker\": {\"color\": \"#19d3f3\"}, \"name\": \"ConvTranspose\", \"offsetgroup\": \"ConvTranspose\", \"orientation\": \"v\", \"showlegend\": true, \"textposition\": \"auto\", \"type\": \"bar\", \"x\": [\"upsample_p5\", \"upsample_p4\", \"upsample_p3\", \"toplayer_p2\"], \"xaxis\": \"x\", \"y\": [0.16686528671876244, 0.6674611468750498, 2.669844587500199, 6.3408808953129725], \"yaxis\": \"y\"}, {\"alignmentgroup\": \"True\", \"hovertemplate\": \"type=Add<br>name=%{x}<br>time(ms)=%{y}<extra></extra>\", \"legendgroup\": \"Add\", \"marker\": {\"color\": \"#FF6692\"}, \"name\": \"Add\", \"offsetgroup\": \"Add\", \"orientation\": \"v\", \"showlegend\": true, \"textposition\": \"auto\", \"type\": \"bar\", \"x\": [\"add_p4\", \"add_p3\", \"add_p2\"], \"xaxis\": \"x\", \"y\": [0.0173087557624426, 0.0692350230497704, 0.2769400921990816], \"yaxis\": \"y\"}],                        {\"barmode\": \"relative\", \"legend\": {\"title\": {\"text\": \"type\"}, \"tracegroupgap\": 0}, \"template\": {\"data\": {\"bar\": [{\"error_x\": {\"color\": \"#2a3f5f\"}, \"error_y\": {\"color\": \"#2a3f5f\"}, \"marker\": {\"line\": {\"color\": \"#E5ECF6\", \"width\": 0.5}}, \"type\": \"bar\"}], \"barpolar\": [{\"marker\": {\"line\": {\"color\": \"#E5ECF6\", \"width\": 0.5}}, \"type\": \"barpolar\"}], \"carpet\": [{\"aaxis\": {\"endlinecolor\": \"#2a3f5f\", \"gridcolor\": \"white\", \"linecolor\": \"white\", \"minorgridcolor\": \"white\", \"startlinecolor\": \"#2a3f5f\"}, \"baxis\": {\"endlinecolor\": \"#2a3f5f\", \"gridcolor\": \"white\", \"linecolor\": \"white\", \"minorgridcolor\": \"white\", \"startlinecolor\": \"#2a3f5f\"}, \"type\": \"carpet\"}], \"choropleth\": [{\"colorbar\": {\"outlinewidth\": 0, \"ticks\": \"\"}, \"type\": \"choropleth\"}], \"contour\": [{\"colorbar\": {\"outlinewidth\": 0, \"ticks\": \"\"}, \"colorscale\": [[0.0, \"#0d0887\"], [0.1111111111111111, \"#46039f\"], [0.2222222222222222, \"#7201a8\"], [0.3333333333333333, \"#9c179e\"], [0.4444444444444444, \"#bd3786\"], [0.5555555555555556, \"#d8576b\"], [0.6666666666666666, \"#ed7953\"], [0.7777777777777778, \"#fb9f3a\"], [0.8888888888888888, \"#fdca26\"], [1.0, \"#f0f921\"]], \"type\": \"contour\"}], \"contourcarpet\": [{\"colorbar\": {\"outlinewidth\": 0, \"ticks\": \"\"}, \"type\": \"contourcarpet\"}], \"heatmap\": [{\"colorbar\": {\"outlinewidth\": 0, \"ticks\": \"\"}, \"colorscale\": [[0.0, \"#0d0887\"], [0.1111111111111111, \"#46039f\"], [0.2222222222222222, \"#7201a8\"], [0.3333333333333333, \"#9c179e\"], [0.4444444444444444, \"#bd3786\"], [0.5555555555555556, \"#d8576b\"], [0.6666666666666666, \"#ed7953\"], [0.7777777777777778, \"#fb9f3a\"], [0.8888888888888888, \"#fdca26\"], [1.0, \"#f0f921\"]], \"type\": \"heatmap\"}], \"heatmapgl\": [{\"colorbar\": {\"outlinewidth\": 0, \"ticks\": \"\"}, \"colorscale\": [[0.0, \"#0d0887\"], [0.1111111111111111, \"#46039f\"], [0.2222222222222222, \"#7201a8\"], [0.3333333333333333, \"#9c179e\"], [0.4444444444444444, \"#bd3786\"], [0.5555555555555556, \"#d8576b\"], [0.6666666666666666, \"#ed7953\"], [0.7777777777777778, \"#fb9f3a\"], [0.8888888888888888, \"#fdca26\"], [1.0, \"#f0f921\"]], \"type\": \"heatmapgl\"}], \"histogram\": [{\"marker\": {\"colorbar\": {\"outlinewidth\": 0, \"ticks\": \"\"}}, \"type\": \"histogram\"}], \"histogram2d\": [{\"colorbar\": {\"outlinewidth\": 0, \"ticks\": \"\"}, \"colorscale\": [[0.0, \"#0d0887\"], [0.1111111111111111, \"#46039f\"], [0.2222222222222222, \"#7201a8\"], [0.3333333333333333, \"#9c179e\"], [0.4444444444444444, \"#bd3786\"], [0.5555555555555556, \"#d8576b\"], [0.6666666666666666, \"#ed7953\"], [0.7777777777777778, \"#fb9f3a\"], [0.8888888888888888, \"#fdca26\"], [1.0, \"#f0f921\"]], \"type\": \"histogram2d\"}], \"histogram2dcontour\": [{\"colorbar\": {\"outlinewidth\": 0, \"ticks\": \"\"}, \"colorscale\": [[0.0, \"#0d0887\"], [0.1111111111111111, \"#46039f\"], [0.2222222222222222, \"#7201a8\"], [0.3333333333333333, \"#9c179e\"], [0.4444444444444444, \"#bd3786\"], [0.5555555555555556, \"#d8576b\"], [0.6666666666666666, \"#ed7953\"], [0.7777777777777778, \"#fb9f3a\"], [0.8888888888888888, \"#fdca26\"], [1.0, \"#f0f921\"]], \"type\": \"histogram2dcontour\"}], \"mesh3d\": [{\"colorbar\": {\"outlinewidth\": 0, \"ticks\": \"\"}, \"type\": \"mesh3d\"}], \"parcoords\": [{\"line\": {\"colorbar\": {\"outlinewidth\": 0, \"ticks\": \"\"}}, \"type\": \"parcoords\"}], \"pie\": [{\"automargin\": true, \"type\": \"pie\"}], \"scatter\": [{\"marker\": {\"colorbar\": {\"outlinewidth\": 0, \"ticks\": \"\"}}, \"type\": \"scatter\"}], \"scatter3d\": [{\"line\": {\"colorbar\": {\"outlinewidth\": 0, \"ticks\": \"\"}}, \"marker\": {\"colorbar\": {\"outlinewidth\": 0, \"ticks\": \"\"}}, \"type\": \"scatter3d\"}], \"scattercarpet\": [{\"marker\": {\"colorbar\": {\"outlinewidth\": 0, \"ticks\": \"\"}}, \"type\": \"scattercarpet\"}], \"scattergeo\": [{\"marker\": {\"colorbar\": {\"outlinewidth\": 0, \"ticks\": \"\"}}, \"type\": \"scattergeo\"}], \"scattergl\": [{\"marker\": {\"colorbar\": {\"outlinewidth\": 0, \"ticks\": \"\"}}, \"type\": \"scattergl\"}], \"scattermapbox\": [{\"marker\": {\"colorbar\": {\"outlinewidth\": 0, \"ticks\": \"\"}}, \"type\": \"scattermapbox\"}], \"scatterpolar\": [{\"marker\": {\"colorbar\": {\"outlinewidth\": 0, \"ticks\": \"\"}}, \"type\": \"scatterpolar\"}], \"scatterpolargl\": [{\"marker\": {\"colorbar\": {\"outlinewidth\": 0, \"ticks\": \"\"}}, \"type\": \"scatterpolargl\"}], \"scatterternary\": [{\"marker\": {\"colorbar\": {\"outlinewidth\": 0, \"ticks\": \"\"}}, \"type\": \"scatterternary\"}], \"surface\": [{\"colorbar\": {\"outlinewidth\": 0, \"ticks\": \"\"}, \"colorscale\": [[0.0, \"#0d0887\"], [0.1111111111111111, \"#46039f\"], [0.2222222222222222, \"#7201a8\"], [0.3333333333333333, \"#9c179e\"], [0.4444444444444444, \"#bd3786\"], [0.5555555555555556, \"#d8576b\"], [0.6666666666666666, \"#ed7953\"], [0.7777777777777778, \"#fb9f3a\"], [0.8888888888888888, \"#fdca26\"], [1.0, \"#f0f921\"]], \"type\": \"surface\"}], \"table\": [{\"cells\": {\"fill\": {\"color\": \"#EBF0F8\"}, \"line\": {\"color\": \"white\"}}, \"header\": {\"fill\": {\"color\": \"#C8D4E3\"}, \"line\": {\"color\": \"white\"}}, \"type\": \"table\"}]}, \"layout\": {\"annotationdefaults\": {\"arrowcolor\": \"#2a3f5f\", \"arrowhead\": 0, \"arrowwidth\": 1}, \"autotypenumbers\": \"strict\", \"coloraxis\": {\"colorbar\": {\"outlinewidth\": 0, \"ticks\": \"\"}}, \"colorscale\": {\"diverging\": [[0, \"#8e0152\"], [0.1, \"#c51b7d\"], [0.2, \"#de77ae\"], [0.3, \"#f1b6da\"], [0.4, \"#fde0ef\"], [0.5, \"#f7f7f7\"], [0.6, \"#e6f5d0\"], [0.7, \"#b8e186\"], [0.8, \"#7fbc41\"], [0.9, \"#4d9221\"], [1, \"#276419\"]], \"sequential\": [[0.0, \"#0d0887\"], [0.1111111111111111, \"#46039f\"], [0.2222222222222222, \"#7201a8\"], [0.3333333333333333, \"#9c179e\"], [0.4444444444444444, \"#bd3786\"], [0.5555555555555556, \"#d8576b\"], [0.6666666666666666, \"#ed7953\"], [0.7777777777777778, \"#fb9f3a\"], [0.8888888888888888, \"#fdca26\"], [1.0, \"#f0f921\"]], \"sequentialminus\": [[0.0, \"#0d0887\"], [0.1111111111111111, \"#46039f\"], [0.2222222222222222, \"#7201a8\"], [0.3333333333333333, \"#9c179e\"], [0.4444444444444444, \"#bd3786\"], [0.5555555555555556, \"#d8576b\"], [0.6666666666666666, \"#ed7953\"], [0.7777777777777778, \"#fb9f3a\"], [0.8888888888888888, \"#fdca26\"], [1.0, \"#f0f921\"]]}, \"colorway\": [\"#636efa\", \"#EF553B\", \"#00cc96\", \"#ab63fa\", \"#FFA15A\", \"#19d3f3\", \"#FF6692\", \"#B6E880\", \"#FF97FF\", \"#FECB52\"], \"font\": {\"color\": \"#2a3f5f\"}, \"geo\": {\"bgcolor\": \"white\", \"lakecolor\": \"white\", \"landcolor\": \"#E5ECF6\", \"showlakes\": true, \"showland\": true, \"subunitcolor\": \"white\"}, \"hoverlabel\": {\"align\": \"left\"}, \"hovermode\": \"closest\", \"mapbox\": {\"style\": \"light\"}, \"paper_bgcolor\": \"white\", \"plot_bgcolor\": \"#E5ECF6\", \"polar\": {\"angularaxis\": {\"gridcolor\": \"white\", \"linecolor\": \"white\", \"ticks\": \"\"}, \"bgcolor\": \"#E5ECF6\", \"radialaxis\": {\"gridcolor\": \"white\", \"linecolor\": \"white\", \"ticks\": \"\"}}, \"scene\": {\"xaxis\": {\"backgroundcolor\": \"#E5ECF6\", \"gridcolor\": \"white\", \"gridwidth\": 2, \"linecolor\": \"white\", \"showbackground\": true, \"ticks\": \"\", \"zerolinecolor\": \"white\"}, \"yaxis\": {\"backgroundcolor\": \"#E5ECF6\", \"gridcolor\": \"white\", \"gridwidth\": 2, \"linecolor\": \"white\", \"showbackground\": true, \"ticks\": \"\", \"zerolinecolor\": \"white\"}, \"zaxis\": {\"backgroundcolor\": \"#E5ECF6\", \"gridcolor\": \"white\", \"gridwidth\": 2, \"linecolor\": \"white\", \"showbackground\": true, \"ticks\": \"\", \"zerolinecolor\": \"white\"}}, \"shapedefaults\": {\"line\": {\"color\": \"#2a3f5f\"}}, \"ternary\": {\"aaxis\": {\"gridcolor\": \"white\", \"linecolor\": \"white\", \"ticks\": \"\"}, \"baxis\": {\"gridcolor\": \"white\", \"linecolor\": \"white\", \"ticks\": \"\"}, \"bgcolor\": \"#E5ECF6\", \"caxis\": {\"gridcolor\": \"white\", \"linecolor\": \"white\", \"ticks\": \"\"}}, \"title\": {\"x\": 0.05}, \"xaxis\": {\"automargin\": true, \"gridcolor\": \"white\", \"linecolor\": \"white\", \"ticks\": \"\", \"title\": {\"standoff\": 15}, \"zerolinecolor\": \"white\", \"zerolinewidth\": 2}, \"yaxis\": {\"automargin\": true, \"gridcolor\": \"white\", \"linecolor\": \"white\", \"ticks\": \"\", \"title\": {\"standoff\": 15}, \"zerolinecolor\": \"white\", \"zerolinewidth\": 2}}}, \"title\": {\"text\": \"network: cf_cityscapes, optimizer: ov, layermodel: ncs2-roofline\"}, \"xaxis\": {\"anchor\": \"y\", \"domain\": [0.0, 1.0], \"title\": {\"text\": \"name\"}}, \"yaxis\": {\"anchor\": \"x\", \"domain\": [0.0, 1.0], \"title\": {\"text\": \"time(ms)\"}}},                        {\"responsive\": true}                    ).then(function(){\n                            \nvar gd = document.getElementById('05e1fdbd-da10-4cff-9e64-abd88d3db122');\nvar x = new MutationObserver(function (mutations, observer) {{\n        var display = window.getComputedStyle(gd).display;\n        if (!display || display === 'none') {{\n            console.log([gd, 'removed!']);\n            Plotly.purge(gd);\n            observer.disconnect();\n        }}\n}});\n\n// Listen for the removal of the full notebook cells\nvar notebookContainer = gd.closest('#notebook-container');\nif (notebookContainer) {{\n    x.observe(notebookContainer, {childList: true});\n}}\n\n// Listen for the clearing of the current output cell\nvar outputEl = gd.closest('.output');\nif (outputEl) {{\n    x.observe(outputEl, {childList: true});\n}}\n\n                        })                };                });            </script>        </div>"
     },
     "metadata": {}
    }
   ],
   "source": [
    "import plotly.express as px\n",
    "fig = px.bar(layerwise, title='network: '+network+', optimizer: '+optimizer+', layermodel: '+model , x='name', y='time(ms)', color='type')\n",
    "fig.show()"
   ]
  },
  {
   "source": [
    "<img src='../_img/result.png'></img>"
   ],
   "cell_type": "markdown",
   "metadata": {}
  }
 ]
}